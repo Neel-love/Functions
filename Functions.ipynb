{
  "nbformat": 4,
  "nbformat_minor": 0,
  "metadata": {
    "colab": {
      "provenance": []
    },
    "kernelspec": {
      "name": "python3",
      "display_name": "Python 3"
    },
    "language_info": {
      "name": "python"
    }
  },
  "cells": [
    {
      "cell_type": "markdown",
      "source": [
        "#FUNCTIONS"
      ],
      "metadata": {
        "id": "at7c5yIeZUB6"
      }
    },
    {
      "cell_type": "markdown",
      "source": [
        "1.what is difference between a function ,give at least one example.\n",
        "  - A function is a block of code designed to perform a specific task. It typically takes inputs, called parameters or arguments, and returns an output. The key difference between functions and other blocks of code is that functions are reusable, modular, and organized in a way that you can call them multiple times with different inputs."
      ],
      "metadata": {
        "id": "1enlXVyPyFDv"
      }
    },
    {
      "cell_type": "code",
      "source": [
        "# Function to calculate the square of a number\n",
        "def square(number):\n",
        "    return number * number\n",
        "result = square(5)\n",
        "print(result)"
      ],
      "metadata": {
        "colab": {
          "base_uri": "https://localhost:8080/"
        },
        "id": "2f5XzFjA8BF1",
        "outputId": "72b86b13-bc7a-42e9-fc39-26b146115288"
      },
      "execution_count": null,
      "outputs": [
        {
          "output_type": "stream",
          "name": "stdout",
          "text": [
            "25\n"
          ]
        }
      ]
    },
    {
      "cell_type": "markdown",
      "source": [
        "2.Explain the concept of function arguments and method in python?\n",
        "  - Function arguments, also known as parameters when defining a function, are the values or variables that are passed into a function when it is called. These values provide input to the function and can be used within the function's body to perform specific operations.\n",
        "\n",
        "   Types of Function Arguments:\n",
        "   - Positional arguments: These are the most common type of arguments. The order in which arguments are passed matters.\n",
        "   -  Keyword arguments: These are arguments passed by explicitly specifying the parameter name and its value.\n",
        "   -  Default arguments: These are arguments that have default values, so if no value is provided when calling the function, the default value is used.\n",
        "   -  Variable-length arguments (Arbitrary arguments): These are used when you don't know in advance how many arguments will be passed to the function."
      ],
      "metadata": {
        "id": "Yw17cU7-yFAZ"
      }
    },
    {
      "cell_type": "markdown",
      "source": [
        "3.What are the different ways to define and call a function in python?\n",
        "  - In Python, functions can be defined and called in several different ways. Here's an overview of the common approaches:\n",
        "\n",
        "  1. Defining and Calling a Regular function:\n",
        "     - This is the standard method of defining and calling a function in Python.\n",
        "  2. Lambda Functions (Anonymous Functions):\n",
        "    -  They can take any number of arguments but only have one expression.\n",
        "  3. Function with Default Arguments:\n",
        "    - you can define default values for function parameters. If a value is not passed for a parameter when calling the function, the default value will be used.\n",
        "  4. Function with Variable Number of Arguments:\n",
        "    - You can define functions that accept a variable number of arguments using *args (for non-keyword arguments) and **kwargs (for keyword arguments).\n",
        "  5. Recursive Functions:\n",
        "    - A recursive function is a function that calls itself to solve a smaller instance of the same problem.\n",
        "  6. Function as a First-Class Object\n",
        "  7. Function Returning Another Function\n",
        "  8. Method (Function Bound to a Class)\n",
        "\n"
      ],
      "metadata": {
        "id": "g17jwiXAylqu"
      }
    },
    {
      "cell_type": "markdown",
      "source": [
        "4.what is the purpose of the 'return' statement in python function?\n",
        " - In Python, the return statement is used to exit a function and return a value to the caller. It serves several purposes:\n",
        "\n",
        "1.Exit the function:\n",
        "  - The return statement immediately stops the execution of the function, so any code after return is not executed.\n",
        "\n",
        "2.Return a value:\n",
        "  - The return statement can send a value back to the place where the function was called. This value can be of any data type (integer, string, list, etc.).\n",
        "\n",
        "3.Allow function reuse:\n",
        "  - By returning a value, functions can be reused in different parts of the program. The returned value can be assigned to a variable or used in expressions."
      ],
      "metadata": {
        "id": "QWfPlZuOy1VR"
      }
    },
    {
      "cell_type": "markdown",
      "source": [
        "5. What are the iterators in python and how do they differ for iterables?\n",
        " - In Python, iterators are objects that allow traversing through a sequence, like a list or a tuple, one element at a time. They are essential for working with loops like for and other contexts where sequential access to data is needed.\n",
        "\n",
        "Key Concepts of Iterators:\n",
        "\n",
        "  - Iterable: An object that can return an iterator. Examples include lists, tuples, strings, sets, and dictionaries.\n",
        "  - Iterator: An object that implements the __iter__() and __next__() methods.\n",
        "__iter__(): Returns the iterator object itself and is used to initialize the iterator.\n",
        "__next__(): Returns the next element of the sequence. If there are no more elements, it raises the StopIteration exception."
      ],
      "metadata": {
        "id": "Bpcpg6NizIqa"
      }
    },
    {
      "cell_type": "markdown",
      "source": [
        "6.Explain the concept of generators in python and how they are defined.\n",
        " - In Python, a generator is a special type of iterator that generates items lazily, meaning it produces values one at a time as they are needed, rather than storing them in memory all at once. This makes generators highly memory-efficient, especially when dealing with large data sets or infinite sequences.\n",
        "\n",
        " Key Concepts of Generators:\n",
        "   - Lazy Evaluation: Generators do not compute all of their values upfront. Instead, they yield values one by one as you iterate through them. This allows them to work with large datasets without requiring a lot of memory.\n",
        "\n",
        "   - State Retention: Each time a generator's yield statement is executed, the function's state is saved (including local variables, execution point, etc.), and the function is paused. When the generator is called again, it resumes execution right after the last yield statement.\n",
        "\n",
        "  - Memory Efficiency: Since values are produced on the fly and not stored in memory, generators are memory-efficient compared to lists or other data structures that store all elements at once."
      ],
      "metadata": {
        "id": "FP3pkOjUza63"
      }
    },
    {
      "cell_type": "markdown",
      "source": [
        "7.What are the advantage of using generators over regular function?\n",
        "  - Generators offer several advantages over regular functions, especially when working with large datasets, streams of data, or scenarios that require efficiency. Here are the key benefits:\n",
        "\n",
        "  Example:\n",
        "\n",
        "     - Generator: yield produces values one by one.\n",
        "     - function: Returns a complete list or other data structure, consuming memory for the entire dataset."
      ],
      "metadata": {
        "id": "rKpRm3FNzbo6"
      }
    },
    {
      "cell_type": "markdown",
      "source": [
        "8.what is a lambda function in python and when is it typically used?\n",
        "  - A lambda function in Python is a small, anonymous function that is defined using the lambda keyword. Unlike regular functions defined using def, a lambda function is typically used for short-lived, simple operations, often where you don't need to define a full function.\n",
        "\n"
      ],
      "metadata": {
        "id": "KOZ5ERc8zbTY"
      }
    },
    {
      "cell_type": "markdown",
      "source": [
        "9.Explain the purpose and usage of the 'map'()function in python.\n",
        " - The map() function in Python is used to apply a given function to all the items in an iterable (like a list, tuple, etc.) and return a map object (which is an iterator) that produces the results. It’s a convenient way to perform the same operation on each item in an iterable without using explicit loops.\n",
        "\n",
        " Purpose:\n",
        "  - Apply a function to all items:\n",
        "      - The primary purpose of map() is to apply a function to every element of an iterable (or multiple iterables) and return the result.\n",
        "  - Functional programming:\n",
        "       - It supports functional programming paradigms by abstracting away the need for explicit loops, making the code more concise and potentially more readable."
      ],
      "metadata": {
        "id": "Aa8cC5G_26nc"
      }
    },
    {
      "cell_type": "markdown",
      "source": [
        "10.What is differance between 'map()','reduce(), and 'filter()' function in python?\n",
        "   - map():\n",
        "     - Transforms each element of the iterable.\n",
        "   - reduce():\n",
        "      - Reduces the iterable to a single value by applying a binary function.\n",
        "   - filter():\n",
        "       - elements from the iterable based on a condition."
      ],
      "metadata": {
        "id": "mUD5Gx1r26h3"
      }
    },
    {
      "cell_type": "markdown",
      "source": [
        "11.Using pen & paper write the internal mechanism for sum operation using reduce function on this given list[47,11,42,13]\n",
        " - Let's break down the internal mechanism of the reduce() function when performing a sum operation on the list [47, 11, 42, 13]. The goal is to accumulate a total sum of all the numbers in the list using reduce().\n",
        "\n",
        "The reduce() function applies a binary function (in this case, addition) to the elements of the iterable cumulatively from left to right."
      ],
      "metadata": {
        "id": "r8sgQJWS5ZM6"
      }
    },
    {
      "cell_type": "markdown",
      "source": [
        "#Practical questions\n",
        "\n",
        "\n",
        "\n",
        "\n",
        "\n",
        "\n",
        "\n",
        "\n",
        "\n",
        "\n",
        "\n"
      ],
      "metadata": {
        "id": "aRqsB_yGZP-l"
      }
    },
    {
      "cell_type": "markdown",
      "source": [
        "1. Write a python function thats a list of numbers as input and returns the sum of all even numbers in the list"
      ],
      "metadata": {
        "id": "akYz7PlzZPgB"
      }
    },
    {
      "cell_type": "code",
      "source": [
        "def sum_of_even_numbers(numbers):\n",
        "    # Initialize a variable to hold the sum of even numbers\n",
        "    sum_even = 0\n",
        "\n",
        "    # Iterate through the list of numbers\n",
        "    for num in numbers:\n",
        "        # Check if the number is even\n",
        "        if num % 2 == 0:\n",
        "            sum_even += num  # Add the even number to the sum\n",
        "\n",
        "    return sum_even\n"
      ],
      "metadata": {
        "id": "BKEk1VNJpkTo"
      },
      "execution_count": 8,
      "outputs": []
    },
    {
      "cell_type": "code",
      "source": [
        "numbers = [1, 2, 3, 4, 5, 6, 7, 8]\n",
        "result = sum_of_even_numbers(numbers)\n",
        "print(result)\n"
      ],
      "metadata": {
        "colab": {
          "base_uri": "https://localhost:8080/"
        },
        "id": "ZjcO8VdTpwYj",
        "outputId": "8bc877d1-4c9f-4cd4-8ba1-c2a1170e51af"
      },
      "execution_count": 10,
      "outputs": [
        {
          "output_type": "stream",
          "name": "stdout",
          "text": [
            "20\n"
          ]
        }
      ]
    },
    {
      "cell_type": "markdown",
      "source": [
        "2. Create a python function that accepts a string and returns the reverse of that stiring.\n"
      ],
      "metadata": {
        "id": "kDLBJJogc5C8"
      }
    },
    {
      "cell_type": "code",
      "source": [
        "def reverse_string(s):\n",
        "    return s[::-1]\n"
      ],
      "metadata": {
        "id": "ttIbduwCp9wm"
      },
      "execution_count": 11,
      "outputs": []
    },
    {
      "cell_type": "code",
      "source": [
        "input_string = \"hello\"\n",
        "result = reverse_string(input_string)\n",
        "print(result)\n"
      ],
      "metadata": {
        "colab": {
          "base_uri": "https://localhost:8080/"
        },
        "id": "DAuklULcp9s_",
        "outputId": "226d3195-6f71-4927-8082-f67c4894e858"
      },
      "execution_count": 12,
      "outputs": [
        {
          "output_type": "stream",
          "name": "stdout",
          "text": [
            "olleh\n"
          ]
        }
      ]
    },
    {
      "cell_type": "markdown",
      "source": [
        "3. Implement a python function that takes a list of integers and returns a new list containing the squares of each number."
      ],
      "metadata": {
        "id": "MGoLrEW2dvkX"
      }
    },
    {
      "cell_type": "code",
      "source": [
        "def square_numbers(numbers):\n",
        "    \"\"\"\n",
        "    Returns a list of the squares of the given numbers.\n",
        "\n",
        "    Args:\n",
        "        numbers (list): A list of integers.\n",
        "\n",
        "    Returns:\n",
        "        list: A new list with the squares of the input integers.\n",
        "    \"\"\"\n",
        "    return [num ** 2 for num in numbers]\n",
        "input_list = [1, 2, 3, 4, 5]\n",
        "output_list = square_numbers(input_list)\n",
        "print(\"Original list:\", input_list)\n",
        "print(\"Squared list:\", output_list)\n"
      ],
      "metadata": {
        "colab": {
          "base_uri": "https://localhost:8080/"
        },
        "id": "mkfXbpMfqPKO",
        "outputId": "ca4496f8-926e-492c-b45d-78d82d820f59"
      },
      "execution_count": 13,
      "outputs": [
        {
          "output_type": "stream",
          "name": "stdout",
          "text": [
            "Original list: [1, 2, 3, 4, 5]\n",
            "Squared list: [1, 4, 9, 16, 25]\n"
          ]
        }
      ]
    },
    {
      "cell_type": "markdown",
      "source": [
        "4. Write a python function that cheaks if a given  number is prime or not from 1 to 200."
      ],
      "metadata": {
        "id": "vBt0Yo-edy7H"
      }
    },
    {
      "cell_type": "code",
      "source": [
        "\n",
        "def is_prime(number):\n",
        "    \"\"\"\n",
        "    Checks if a number is prime.\n",
        "\n",
        "    Args:\n",
        "        number (int): The number to check.\n",
        "\n",
        "    Returns:\n",
        "        bool: True if the number is prime, False otherwise.\n",
        "    \"\"\"\n",
        "    if number <= 1:\n",
        "        return False\n",
        "    for i in range(2, int(number ** 0.5) + 1):\n",
        "        if number % i == 0:\n",
        "            return False\n",
        "    return True\n",
        "for num in range(1, 201):\n",
        "    result = is_prime(num)\n",
        "    print(f\"{num} is {'a prime number' if result else 'not a prime number'}\")\n"
      ],
      "metadata": {
        "colab": {
          "base_uri": "https://localhost:8080/"
        },
        "id": "g5LKBLVrqpIc",
        "outputId": "bbeb2874-0d66-46c3-d511-48d23b9c3009"
      },
      "execution_count": 14,
      "outputs": [
        {
          "output_type": "stream",
          "name": "stdout",
          "text": [
            "1 is not a prime number\n",
            "2 is a prime number\n",
            "3 is a prime number\n",
            "4 is not a prime number\n",
            "5 is a prime number\n",
            "6 is not a prime number\n",
            "7 is a prime number\n",
            "8 is not a prime number\n",
            "9 is not a prime number\n",
            "10 is not a prime number\n",
            "11 is a prime number\n",
            "12 is not a prime number\n",
            "13 is a prime number\n",
            "14 is not a prime number\n",
            "15 is not a prime number\n",
            "16 is not a prime number\n",
            "17 is a prime number\n",
            "18 is not a prime number\n",
            "19 is a prime number\n",
            "20 is not a prime number\n",
            "21 is not a prime number\n",
            "22 is not a prime number\n",
            "23 is a prime number\n",
            "24 is not a prime number\n",
            "25 is not a prime number\n",
            "26 is not a prime number\n",
            "27 is not a prime number\n",
            "28 is not a prime number\n",
            "29 is a prime number\n",
            "30 is not a prime number\n",
            "31 is a prime number\n",
            "32 is not a prime number\n",
            "33 is not a prime number\n",
            "34 is not a prime number\n",
            "35 is not a prime number\n",
            "36 is not a prime number\n",
            "37 is a prime number\n",
            "38 is not a prime number\n",
            "39 is not a prime number\n",
            "40 is not a prime number\n",
            "41 is a prime number\n",
            "42 is not a prime number\n",
            "43 is a prime number\n",
            "44 is not a prime number\n",
            "45 is not a prime number\n",
            "46 is not a prime number\n",
            "47 is a prime number\n",
            "48 is not a prime number\n",
            "49 is not a prime number\n",
            "50 is not a prime number\n",
            "51 is not a prime number\n",
            "52 is not a prime number\n",
            "53 is a prime number\n",
            "54 is not a prime number\n",
            "55 is not a prime number\n",
            "56 is not a prime number\n",
            "57 is not a prime number\n",
            "58 is not a prime number\n",
            "59 is a prime number\n",
            "60 is not a prime number\n",
            "61 is a prime number\n",
            "62 is not a prime number\n",
            "63 is not a prime number\n",
            "64 is not a prime number\n",
            "65 is not a prime number\n",
            "66 is not a prime number\n",
            "67 is a prime number\n",
            "68 is not a prime number\n",
            "69 is not a prime number\n",
            "70 is not a prime number\n",
            "71 is a prime number\n",
            "72 is not a prime number\n",
            "73 is a prime number\n",
            "74 is not a prime number\n",
            "75 is not a prime number\n",
            "76 is not a prime number\n",
            "77 is not a prime number\n",
            "78 is not a prime number\n",
            "79 is a prime number\n",
            "80 is not a prime number\n",
            "81 is not a prime number\n",
            "82 is not a prime number\n",
            "83 is a prime number\n",
            "84 is not a prime number\n",
            "85 is not a prime number\n",
            "86 is not a prime number\n",
            "87 is not a prime number\n",
            "88 is not a prime number\n",
            "89 is a prime number\n",
            "90 is not a prime number\n",
            "91 is not a prime number\n",
            "92 is not a prime number\n",
            "93 is not a prime number\n",
            "94 is not a prime number\n",
            "95 is not a prime number\n",
            "96 is not a prime number\n",
            "97 is a prime number\n",
            "98 is not a prime number\n",
            "99 is not a prime number\n",
            "100 is not a prime number\n",
            "101 is a prime number\n",
            "102 is not a prime number\n",
            "103 is a prime number\n",
            "104 is not a prime number\n",
            "105 is not a prime number\n",
            "106 is not a prime number\n",
            "107 is a prime number\n",
            "108 is not a prime number\n",
            "109 is a prime number\n",
            "110 is not a prime number\n",
            "111 is not a prime number\n",
            "112 is not a prime number\n",
            "113 is a prime number\n",
            "114 is not a prime number\n",
            "115 is not a prime number\n",
            "116 is not a prime number\n",
            "117 is not a prime number\n",
            "118 is not a prime number\n",
            "119 is not a prime number\n",
            "120 is not a prime number\n",
            "121 is not a prime number\n",
            "122 is not a prime number\n",
            "123 is not a prime number\n",
            "124 is not a prime number\n",
            "125 is not a prime number\n",
            "126 is not a prime number\n",
            "127 is a prime number\n",
            "128 is not a prime number\n",
            "129 is not a prime number\n",
            "130 is not a prime number\n",
            "131 is a prime number\n",
            "132 is not a prime number\n",
            "133 is not a prime number\n",
            "134 is not a prime number\n",
            "135 is not a prime number\n",
            "136 is not a prime number\n",
            "137 is a prime number\n",
            "138 is not a prime number\n",
            "139 is a prime number\n",
            "140 is not a prime number\n",
            "141 is not a prime number\n",
            "142 is not a prime number\n",
            "143 is not a prime number\n",
            "144 is not a prime number\n",
            "145 is not a prime number\n",
            "146 is not a prime number\n",
            "147 is not a prime number\n",
            "148 is not a prime number\n",
            "149 is a prime number\n",
            "150 is not a prime number\n",
            "151 is a prime number\n",
            "152 is not a prime number\n",
            "153 is not a prime number\n",
            "154 is not a prime number\n",
            "155 is not a prime number\n",
            "156 is not a prime number\n",
            "157 is a prime number\n",
            "158 is not a prime number\n",
            "159 is not a prime number\n",
            "160 is not a prime number\n",
            "161 is not a prime number\n",
            "162 is not a prime number\n",
            "163 is a prime number\n",
            "164 is not a prime number\n",
            "165 is not a prime number\n",
            "166 is not a prime number\n",
            "167 is a prime number\n",
            "168 is not a prime number\n",
            "169 is not a prime number\n",
            "170 is not a prime number\n",
            "171 is not a prime number\n",
            "172 is not a prime number\n",
            "173 is a prime number\n",
            "174 is not a prime number\n",
            "175 is not a prime number\n",
            "176 is not a prime number\n",
            "177 is not a prime number\n",
            "178 is not a prime number\n",
            "179 is a prime number\n",
            "180 is not a prime number\n",
            "181 is a prime number\n",
            "182 is not a prime number\n",
            "183 is not a prime number\n",
            "184 is not a prime number\n",
            "185 is not a prime number\n",
            "186 is not a prime number\n",
            "187 is not a prime number\n",
            "188 is not a prime number\n",
            "189 is not a prime number\n",
            "190 is not a prime number\n",
            "191 is a prime number\n",
            "192 is not a prime number\n",
            "193 is a prime number\n",
            "194 is not a prime number\n",
            "195 is not a prime number\n",
            "196 is not a prime number\n",
            "197 is a prime number\n",
            "198 is not a prime number\n",
            "199 is a prime number\n",
            "200 is not a prime number\n"
          ]
        }
      ]
    },
    {
      "cell_type": "markdown",
      "source": [
        "5. Create an iterator class in python that generates the finanaci sequence up to a specified number of terms.\n",
        "\n",
        "\n"
      ],
      "metadata": {
        "id": "wj5XcUPReSbf"
      }
    },
    {
      "cell_type": "code",
      "source": [
        "class FibonacciIterator:\n",
        "    \"\"\"\n",
        "    An iterator class to generate the Fibonacci sequence up to a specified number of terms.\n",
        "    \"\"\"\n",
        "    def __init__(self, num_terms):\n",
        "        \"\"\"\n",
        "        Initialize the iterator with the number of terms.\n",
        "\n",
        "        Args:\n",
        "            num_terms (int): The number of terms in the Fibonacci sequence to generate.\n",
        "        \"\"\"\n",
        "        self.num_terms = num_terms\n",
        "        self.current = 0\n",
        "        self.next = 1\n",
        "        self.index = 0\n",
        "\n",
        "    def __iter__(self):\n",
        "        return self\n",
        "\n",
        "    def __next__(self):\n",
        "        if self.index >= self.num_terms:\n",
        "            raise StopIteration\n",
        "        if self.index == 0:\n",
        "            self.index += 1\n",
        "            return self.current\n",
        "        elif self.index == 1:\n",
        "            self.index += 1\n",
        "            return self.next\n",
        "        else:\n",
        "            next_value = self.current + self.next\n",
        "            self.current = self.next\n",
        "            self.next = next_value\n",
        "            self.index += 1\n",
        "            return self.current\n",
        "num_terms = 10\n",
        "fib_iterator = FibonacciIterator(num_terms)\n",
        "\n",
        "print(f\"Fibonacci sequence with {num_terms} terms:\")\n",
        "for value in fib_iterator:\n",
        "    print(value)\n"
      ],
      "metadata": {
        "colab": {
          "base_uri": "https://localhost:8080/"
        },
        "id": "KR9iurkhrFWc",
        "outputId": "11f1ee3b-d539-4204-a12f-58e5c76ba976"
      },
      "execution_count": 15,
      "outputs": [
        {
          "output_type": "stream",
          "name": "stdout",
          "text": [
            "Fibonacci sequence with 10 terms:\n",
            "0\n",
            "1\n",
            "1\n",
            "1\n",
            "2\n",
            "3\n",
            "5\n",
            "8\n",
            "13\n",
            "21\n"
          ]
        }
      ]
    },
    {
      "cell_type": "code",
      "source": [],
      "metadata": {
        "id": "jGsrbvmErFRV"
      },
      "execution_count": null,
      "outputs": []
    },
    {
      "cell_type": "markdown",
      "source": [
        "6. Write a generator functionin python that yields the power of 2 up to a given exponent."
      ],
      "metadata": {
        "id": "oUlxtMHvfMJG"
      }
    },
    {
      "cell_type": "code",
      "source": [
        "def powers_of_two(max_exponent):\n",
        "    \"\"\"\n",
        "    A generator function that yields powers of 2 up to the given exponent.\n",
        "\n",
        "    Args:\n",
        "        max_exponent (int): The maximum exponent to generate 2^n for.\n",
        "    \"\"\"\n",
        "    for exponent in range(max_exponent + 1):\n",
        "        yield 2 ** exponent\n",
        "max_exponent = 10\n",
        "print(f\"Powers of 2 up to 2^{max_exponent}:\")\n",
        "for value in powers_of_two(max_exponent):\n",
        "    print(value)\n"
      ],
      "metadata": {
        "colab": {
          "base_uri": "https://localhost:8080/"
        },
        "id": "mzY578C6rc9b",
        "outputId": "e7d3e182-637b-4078-bee2-cfb86ab79e03"
      },
      "execution_count": 17,
      "outputs": [
        {
          "output_type": "stream",
          "name": "stdout",
          "text": [
            "Powers of 2 up to 2^10:\n",
            "1\n",
            "2\n",
            "4\n",
            "8\n",
            "16\n",
            "32\n",
            "64\n",
            "128\n",
            "256\n",
            "512\n",
            "1024\n"
          ]
        }
      ]
    },
    {
      "cell_type": "markdown",
      "source": [
        "7. Implement a generator function that reads a file line by line  and yields each line as a string.\n"
      ],
      "metadata": {
        "id": "tXI3piRdfOtd"
      }
    },
    {
      "cell_type": "code",
      "source": [
        "def file_line_reader(file_path):\n",
        "    \"\"\"\n",
        "    A generator function that reads a file line by line and yields each line as a string.\n",
        "\n",
        "    Args:\n",
        "        file_path (str): The path to the file to read.\n",
        "\n",
        "    Yields:\n",
        "        str: A single line from the file.\n",
        "    \"\"\"\n",
        "    try:\n",
        "        with open(file_path, 'r') as file:\n",
        "            for line in file:\n",
        "                yield line.rstrip('\\n')\n",
        "    except FileNotFoundError:\n",
        "        print(f\"Error: File '{file_path}' not found.\")\n",
        "    except IOError as e:\n",
        "        print(f\"Error reading file '{file_path}': {e}\")\n",
        "\n",
        "# Example usage:\n",
        "file_path = \"example.txt\"  # Replace with the path to your file\n",
        "print(\"File content:\")\n",
        "for line in file_line_reader(file_path):\n",
        "    print(line)\n"
      ],
      "metadata": {
        "colab": {
          "base_uri": "https://localhost:8080/"
        },
        "id": "19SODZ2ksEjK",
        "outputId": "6dbf3fee-73e9-4481-c514-4e873887bde0"
      },
      "execution_count": 21,
      "outputs": [
        {
          "output_type": "stream",
          "name": "stdout",
          "text": [
            "File content:\n",
            "Error: File 'example.txt' not found.\n"
          ]
        }
      ]
    },
    {
      "cell_type": "markdown",
      "source": [
        "8. Use a lembda function in python to sort a list of tuples based on the second element of each tuple."
      ],
      "metadata": {
        "id": "Sy2Wd--afOnV"
      }
    },
    {
      "cell_type": "code",
      "source": [
        "# Example list of tuples\n",
        "tuples_list = [(1, 3), (4, 1), (2, 2), (5, 0)]\n",
        "\n",
        "# Sorting the list based on the second element of each tuple\n",
        "sorted_list = sorted(tuples_list, key=lambda x: x[1])\n",
        "\n",
        "# Display the result\n",
        "print(\"Original list:\", tuples_list)\n",
        "print(\"Sorted list based on second element:\", sorted_list)\n"
      ],
      "metadata": {
        "colab": {
          "base_uri": "https://localhost:8080/"
        },
        "id": "ERFXxmtEskBh",
        "outputId": "7315f04f-a4c0-467d-bff9-9f0e9c5bf9b4"
      },
      "execution_count": 23,
      "outputs": [
        {
          "output_type": "stream",
          "name": "stdout",
          "text": [
            "Original list: [(1, 3), (4, 1), (2, 2), (5, 0)]\n",
            "Sorted list based on second element: [(5, 0), (4, 1), (2, 2), (1, 3)]\n"
          ]
        }
      ]
    },
    {
      "cell_type": "markdown",
      "source": [
        "9. Write a python program that uses 'map()' to convert a list of temperatures from celcius to fahrenheit."
      ],
      "metadata": {
        "id": "VYaqLTCZgDyU"
      }
    },
    {
      "cell_type": "code",
      "source": [
        "# Function to convert Celsius to Fahrenheit\n",
        "def celsius_to_fahrenheit(celsius):\n",
        "    return (celsius * 9/5) + 32\n",
        "\n",
        "# List of temperatures in Celsius\n",
        "celsius_temps = [0, 10, 20, 30, 40, 100]\n",
        "\n",
        "# Convert using map()\n",
        "fahrenheit_temps = list(map(celsius_to_fahrenheit, celsius_temps))\n",
        "\n",
        "# Display the results\n",
        "print(\"Temperatures in Celsius:\", celsius_temps)\n",
        "print(\"Temperatures in Fahrenheit:\", fahrenheit_temps)\n"
      ],
      "metadata": {
        "colab": {
          "base_uri": "https://localhost:8080/"
        },
        "id": "HGFNDS1Fsq64",
        "outputId": "35ac6c81-2ea7-4e4b-e58a-030ae709cdab"
      },
      "execution_count": 24,
      "outputs": [
        {
          "output_type": "stream",
          "name": "stdout",
          "text": [
            "Temperatures in Celsius: [0, 10, 20, 30, 40, 100]\n",
            "Temperatures in Fahrenheit: [32.0, 50.0, 68.0, 86.0, 104.0, 212.0]\n"
          ]
        }
      ]
    },
    {
      "cell_type": "markdown",
      "source": [
        "10. Create a python program that uses 'filter()' to remove all the vowels from a given string"
      ],
      "metadata": {
        "id": "FZw6nl6HgjwL"
      }
    },
    {
      "cell_type": "code",
      "source": [
        "# Function to check if a character is not a vowel\n",
        "def is_not_vowel(char):\n",
        "    return char.lower() not in 'aeiou'\n",
        "\n",
        "# Input string\n",
        "input_string = \"This is an example string with vowels.\"\n",
        "\n",
        "# Filter out vowels\n",
        "filtered_string = ''.join(filter(is_not_vowel, input_string))\n",
        "\n",
        "# Display the result\n",
        "print(\"Original string:\", input_string)\n",
        "print(\"String without vowels:\", filtered_string)\n",
        "\n",
        "\n"
      ],
      "metadata": {
        "colab": {
          "base_uri": "https://localhost:8080/"
        },
        "id": "9AkVwWzifI1d",
        "outputId": "00afa495-2883-49b0-9a9a-ba81bf8926f9"
      },
      "execution_count": 27,
      "outputs": [
        {
          "output_type": "stream",
          "name": "stdout",
          "text": [
            "Original string: This is an example string with vowels.\n",
            "String without vowels: Ths s n xmpl strng wth vwls.\n"
          ]
        }
      ]
    },
    {
      "cell_type": "code",
      "source": [],
      "metadata": {
        "id": "Ovime0uHs-wd"
      },
      "execution_count": null,
      "outputs": []
    }
  ]
}